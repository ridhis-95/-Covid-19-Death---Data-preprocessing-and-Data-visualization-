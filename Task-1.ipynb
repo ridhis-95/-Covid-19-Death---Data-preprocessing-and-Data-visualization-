{
 "cells": [
  {
   "cell_type": "markdown",
   "id": "635e6499",
   "metadata": {},
   "source": [
    "# Covid-19 Death - Data preprocessing and Data visualization        "
   ]
  },
  {
   "cell_type": "markdown",
   "id": "f6e29156",
   "metadata": {},
   "source": [
    "<table>\n",
    "    <tr><td><b>Name : Ridhi Sharma</b></td></tr>\n",
    "    <tr><td><b>API Details : https://open.cdc.gov/apis.html\"</b></td></tr>\n",
    "    <tr><td><b>URL : https://data.cdc.gov/NCHS/Provisional-COVID-19-Deaths-by-Sex-and-Age/9bhg-hcku</b></td></tr>\n",
    "    <tr><td><b>API endpoint :https://data.cdc.gov/resource/9bhg-hcku</b></td></tr>  \n",
    "</table>      "
   ]
  },
  {
   "cell_type": "markdown",
   "id": "3be61694",
   "metadata": {},
   "source": [
    "In this assignment we will collect yearly data for deaths counts of below mention infections for ten different sates of USA.<br>\n",
    "**States:**<br>\n",
    "- California<br>\n",
    "- Texas<br>\n",
    "- Florida<br>\n",
    "- New York<br>\n",
    "- Pennsylvania<br>\n",
    "- Illinois<br>\n",
    "- Ohio<br>\n",
    "- Arizona<br>\n",
    "- Georgia<br>\n",
    "- North Carolina<br>\n",
    "\n",
    "**Deaths due to Infections:**<br>\n",
    "- Covid<br>\n",
    "- Pneumonia<br>\n",
    "- Influenza<br>\n",
    "- Total Deaths<br>"
   ]
  },
  {
   "cell_type": "markdown",
   "id": "21651c12",
   "metadata": {},
   "source": [
    "### This notebook covers Task 1 - Data Collection."
   ]
  },
  {
   "cell_type": "code",
   "execution_count": 1,
   "id": "00ec9013",
   "metadata": {},
   "outputs": [],
   "source": [
    "#libraries used\n",
    "import json, requests, urllib\n",
    "from pathlib import Path\n",
    "import pandas as pd\n",
    "%matplotlib inline"
   ]
  },
  {
   "cell_type": "markdown",
   "id": "46915f25",
   "metadata": {},
   "source": [
    "Settings for the API and data collection."
   ]
  },
  {
   "cell_type": "code",
   "execution_count": 2,
   "id": "0639ff8d",
   "metadata": {},
   "outputs": [],
   "source": [
    "# Prefix for API URLs\n",
    "api_prefix = \"https://data.cdc.gov\"\n",
    "# The city locations that we would like to study(based on population)\n",
    "state_names = [\"California\", \"Texas\", \"Florida\", \"New York\", \"Pennsylvania\", \"Illinois\", \"Ohio\", \"Arizona\", \"Georgia\", \"North Carolina\"]"
   ]
  },
  {
   "cell_type": "markdown",
   "id": "ff48a23c",
   "metadata": {},
   "source": [
    "Create directory for raw data storage, if it does not already exist:"
   ]
  },
  {
   "cell_type": "code",
   "execution_count": 3,
   "id": "18424e90",
   "metadata": {},
   "outputs": [],
   "source": [
    "dir_raw = Path(\"raw\")\n",
    "dir_raw.mkdir(parents=True, exist_ok=True)"
   ]
  },
  {
   "cell_type": "markdown",
   "id": "da7b389e",
   "metadata": {},
   "source": [
    "## Data Collection\n",
    "We will define a convenience function for retrieving data from the data.cdc API:"
   ]
  },
  {
   "cell_type": "code",
   "execution_count": 4,
   "id": "27600e2b",
   "metadata": {},
   "outputs": [],
   "source": [
    "#defination to contructs the API URL\n",
    "def fetch_data(state):\n",
    "    # construct the url\n",
    "    url=\"https://data.cdc.gov//resource/9bhg-hcku?$where=`group`='By Year'&state=\"+state\n",
    "    print(\"URL = %s\"%url)\n",
    "    result = requests.get(url)\n",
    "    jsonData = result.text\n",
    "    return json.loads(jsonData)"
   ]
  },
  {
   "cell_type": "markdown",
   "id": "c9fe966e",
   "metadata": {},
   "source": [
    "So firstly, we will use the API's city search functionality to find the location for the cities that we would like to study:"
   ]
  },
  {
   "cell_type": "code",
   "execution_count": 5,
   "id": "e5481a92",
   "metadata": {},
   "outputs": [
    {
     "name": "stdout",
     "output_type": "stream",
     "text": [
      "URL = https://data.cdc.gov//resource/9bhg-hcku?$where=`group`='By Year'&state=California\n",
      "153 records fetched for California\n",
      "Writing data to raw\\California.json\n",
      "URL = https://data.cdc.gov//resource/9bhg-hcku?$where=`group`='By Year'&state=Texas\n",
      "153 records fetched for Texas\n",
      "Writing data to raw\\Texas.json\n",
      "URL = https://data.cdc.gov//resource/9bhg-hcku?$where=`group`='By Year'&state=Florida\n",
      "153 records fetched for Florida\n",
      "Writing data to raw\\Florida.json\n",
      "URL = https://data.cdc.gov//resource/9bhg-hcku?$where=`group`='By Year'&state=New York\n",
      "153 records fetched for New York\n",
      "Writing data to raw\\New York.json\n",
      "URL = https://data.cdc.gov//resource/9bhg-hcku?$where=`group`='By Year'&state=Pennsylvania\n",
      "153 records fetched for Pennsylvania\n",
      "Writing data to raw\\Pennsylvania.json\n",
      "URL = https://data.cdc.gov//resource/9bhg-hcku?$where=`group`='By Year'&state=Illinois\n",
      "153 records fetched for Illinois\n",
      "Writing data to raw\\Illinois.json\n",
      "URL = https://data.cdc.gov//resource/9bhg-hcku?$where=`group`='By Year'&state=Ohio\n",
      "153 records fetched for Ohio\n",
      "Writing data to raw\\Ohio.json\n",
      "URL = https://data.cdc.gov//resource/9bhg-hcku?$where=`group`='By Year'&state=Arizona\n",
      "153 records fetched for Arizona\n",
      "Writing data to raw\\Arizona.json\n",
      "URL = https://data.cdc.gov//resource/9bhg-hcku?$where=`group`='By Year'&state=Georgia\n",
      "153 records fetched for Georgia\n",
      "Writing data to raw\\Georgia.json\n",
      "URL = https://data.cdc.gov//resource/9bhg-hcku?$where=`group`='By Year'&state=North Carolina\n",
      "153 records fetched for North Carolina\n",
      "Writing data to raw\\North Carolina.json\n"
     ]
    }
   ],
   "source": [
    "#Fetching data for the cities we want to study.\n",
    "for state_name in state_names:\n",
    "    state_data = fetch_data(state_name)\n",
    "    print(\"%d records fetched for %s\"%(len(state_data),state_name)) \n",
    "    fileName = \"%s.json\"%(state_name)\n",
    "    filePath = dir_raw/fileName\n",
    "    fout = open(filePath,\"w\")\n",
    "    print(\"Writing data to %s\" % filePath)\n",
    "    json.dump(state_data,fout,indent=4,sort_keys=True)\n",
    "    fout.close()"
   ]
  }
 ],
 "metadata": {
  "kernelspec": {
   "display_name": "Python 3.10.5 64-bit",
   "language": "python",
   "name": "python3"
  },
  "language_info": {
   "codemirror_mode": {
    "name": "ipython",
    "version": 3
   },
   "file_extension": ".py",
   "mimetype": "text/x-python",
   "name": "python",
   "nbconvert_exporter": "python",
   "pygments_lexer": "ipython3",
   "version": "3.10.5"
  },
  "vscode": {
   "interpreter": {
    "hash": "d4f8ed35162c96ce3496264cda7db1c356e2eee448d1d8275c7090a0b03231c9"
   }
  }
 },
 "nbformat": 4,
 "nbformat_minor": 5
}
